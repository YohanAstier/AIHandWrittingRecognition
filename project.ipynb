{
 "cells": [
  {
   "cell_type": "code",
   "execution_count": 46,
   "metadata": {},
   "outputs": [],
   "source": [
    "from keras.datasets import mnist\n",
    "from keras import models\n",
    "from keras import utils\n",
    "from keras import layers\n",
    "import numpy as np\n",
    "\n"
   ]
  },
  {
   "attachments": {},
   "cell_type": "markdown",
   "metadata": {},
   "source": [
    "On récupère la data et on la filtre dans un premier temps afin de pouvoir travailler avec"
   ]
  },
  {
   "attachments": {},
   "cell_type": "markdown",
   "metadata": {},
   "source": [
    "MNIST Implémentation du DNN\n",
    "\n",
    "Dans un premier temps, nous allons essayer d'implémenter un modèle à simple couche"
   ]
  },
  {
   "cell_type": "code",
   "execution_count": 47,
   "metadata": {},
   "outputs": [
    {
     "name": "stdout",
     "output_type": "stream",
     "text": [
      "Epoch 1/10\n",
      "469/469 [==============================] - 2s 4ms/step - loss: 27.3048 - accuracy: 0.1076 - val_loss: 27.2505 - val_accuracy: 0.0960\n",
      "Epoch 2/10\n",
      "469/469 [==============================] - 2s 4ms/step - loss: 27.3046 - accuracy: 0.0947 - val_loss: 27.2504 - val_accuracy: 0.0915\n",
      "Epoch 3/10\n",
      "469/469 [==============================] - 2s 4ms/step - loss: 27.3046 - accuracy: 0.0940 - val_loss: 27.2504 - val_accuracy: 0.0939\n",
      "Epoch 4/10\n",
      "469/469 [==============================] - 2s 3ms/step - loss: 27.3046 - accuracy: 0.0939 - val_loss: 27.2504 - val_accuracy: 0.0907\n",
      "Epoch 5/10\n",
      "469/469 [==============================] - 2s 4ms/step - loss: 27.3046 - accuracy: 0.0937 - val_loss: 27.2504 - val_accuracy: 0.0908\n",
      "Epoch 6/10\n",
      "469/469 [==============================] - 2s 4ms/step - loss: 27.3045 - accuracy: 0.0935 - val_loss: 27.2504 - val_accuracy: 0.0897\n",
      "Epoch 7/10\n",
      "469/469 [==============================] - 2s 4ms/step - loss: 27.3045 - accuracy: 0.0931 - val_loss: 27.2504 - val_accuracy: 0.0914\n",
      "Epoch 8/10\n",
      "469/469 [==============================] - 2s 4ms/step - loss: 27.3045 - accuracy: 0.0923 - val_loss: 27.2504 - val_accuracy: 0.0910\n",
      "Epoch 9/10\n",
      "469/469 [==============================] - 2s 3ms/step - loss: 27.3045 - accuracy: 0.0929 - val_loss: 27.2504 - val_accuracy: 0.0904\n",
      "Epoch 10/10\n",
      "469/469 [==============================] - 2s 4ms/step - loss: 27.3045 - accuracy: 0.0923 - val_loss: 27.2504 - val_accuracy: 0.0885\n",
      "313/313 [==============================] - 1s 2ms/step - loss: 27.2504 - accuracy: 0.0885\n",
      "Test accuracy: 0.0885000005364418  Test loss: 27.250375747680664\n"
     ]
    }
   ],
   "source": [
    "(train_input, train_target), (test_input, test_target) = mnist.load_data()\n",
    "\n",
    "#Partie normalisation\n",
    "train_input = train_input.astype('float32') / 255\n",
    "test_input = test_input.astype('float32') / 255\n",
    "\n",
    "train_labels = utils.to_categorical(train_target)\n",
    "test_labels = utils.to_categorical(train_target)\n",
    "\n",
    "model = models.Sequential()\n",
    "model.add(layers.Flatten(input_shape=(28, 28)))\n",
    "model.add(layers.Dense(10, activation='softmax'))\n",
    "\n",
    "model.compile(optimizer='rmsprop',\n",
    "              loss='mse',\n",
    "              metrics=['accuracy'])\n",
    "\n",
    "history = model.fit(train_input, train_target, epochs=10, batch_size=128, validation_data=(test_input, test_target))\n",
    "\n",
    "test_loss, test_acc = model.evaluate(test_input, test_target)\n",
    "print('Test accuracy:', test_acc, ' Test loss:', test_loss) "
   ]
  },
  {
   "attachments": {},
   "cell_type": "markdown",
   "metadata": {},
   "source": [
    "Implémenatation du réseau à multicouches"
   ]
  },
  {
   "cell_type": "code",
   "execution_count": 48,
   "metadata": {},
   "outputs": [
    {
     "name": "stdout",
     "output_type": "stream",
     "text": [
      "Epoch 1/10\n",
      "469/469 [==============================] - 3s 5ms/step - loss: 0.0211 - accuracy: 0.8675 - val_loss: 27.3222 - val_accuracy: 0.1012\n",
      "Epoch 2/10\n",
      "469/469 [==============================] - 7s 15ms/step - loss: 0.0108 - accuracy: 0.9309 - val_loss: 27.3258 - val_accuracy: 0.1000\n",
      "Epoch 3/10\n",
      "469/469 [==============================] - 5s 11ms/step - loss: 0.0087 - accuracy: 0.9458 - val_loss: 27.3277 - val_accuracy: 0.0981\n",
      "Epoch 4/10\n",
      "469/469 [==============================] - 2s 5ms/step - loss: 0.0073 - accuracy: 0.9544 - val_loss: 27.3293 - val_accuracy: 0.1003\n",
      "Epoch 5/10\n",
      "469/469 [==============================] - 2s 5ms/step - loss: 0.0063 - accuracy: 0.9614 - val_loss: 27.3301 - val_accuracy: 0.0982\n",
      "Epoch 6/10\n",
      "469/469 [==============================] - 10s 21ms/step - loss: 0.0056 - accuracy: 0.9659 - val_loss: 27.3311 - val_accuracy: 0.0989\n",
      "Epoch 7/10\n",
      "469/469 [==============================] - 2s 5ms/step - loss: 0.0050 - accuracy: 0.9699 - val_loss: 27.3319 - val_accuracy: 0.1001\n",
      "Epoch 8/10\n",
      "469/469 [==============================] - 2s 5ms/step - loss: 0.0045 - accuracy: 0.9731 - val_loss: 27.3323 - val_accuracy: 0.0996\n",
      "Epoch 9/10\n",
      "469/469 [==============================] - 3s 7ms/step - loss: 0.0041 - accuracy: 0.9764 - val_loss: 27.3331 - val_accuracy: 0.1001\n",
      "Epoch 10/10\n",
      "469/469 [==============================] - 9s 19ms/step - loss: 0.0038 - accuracy: 0.9785 - val_loss: 27.3334 - val_accuracy: 0.0986\n",
      "313/313 [==============================] - 1s 3ms/step - loss: 27.3334 - accuracy: 0.0986\n",
      "Test accuracy: 0.09860000014305115  Test loss: 27.33342170715332\n"
     ]
    }
   ],
   "source": [
    "(train_input, train_target), (test_input, test_target) = mnist.load_data()\n",
    "\n",
    "#Partie normalisation\n",
    "train_input = train_input.astype('float32') / 255\n",
    "test_input = test_input.astype('float32') / 255\n",
    "\n",
    "train_labels = utils.to_categorical(train_target)\n",
    "test_labels = utils.to_categorical(train_target)\n",
    "\n",
    "model = models.Sequential()\n",
    "model.add(layers.Flatten(input_shape=(28, 28)))\n",
    "model.add(layers.Dense(128, activation=\"relu\"))\n",
    "model.add(layers.Dense(10, activation='softmax'))\n",
    "\n",
    "model.compile(optimizer='rmsprop',\n",
    "              loss='mse',\n",
    "              metrics=['accuracy'])\n",
    "\n",
    "history = model.fit(train_input, train_labels, epochs=10, batch_size=128, validation_data=(test_input, test_target))\n",
    "\n",
    "test_loss, test_acc = model.evaluate(test_input, test_target)\n",
    "print('Test accuracy:', test_acc, ' Test loss:', test_loss) "
   ]
  },
  {
   "attachments": {},
   "cell_type": "markdown",
   "metadata": {},
   "source": [
    "Réseau multicouche par convolution "
   ]
  },
  {
   "cell_type": "code",
   "execution_count": 50,
   "metadata": {},
   "outputs": [
    {
     "name": "stdout",
     "output_type": "stream",
     "text": [
      "Epoch 1/5\n",
      "469/469 [==============================] - ETA: 0s - loss: 0.2036 - accuracy: 0.9408"
     ]
    },
    {
     "ename": "ValueError",
     "evalue": "Data cardinality is ambiguous:\n  x sizes: 10000\n  y sizes: 60000\nMake sure all arrays contain the same number of samples.",
     "output_type": "error",
     "traceback": [
      "\u001b[1;31m---------------------------------------------------------------------------\u001b[0m",
      "\u001b[1;31mValueError\u001b[0m                                Traceback (most recent call last)",
      "Cell \u001b[1;32mIn[50], line 23\u001b[0m\n\u001b[0;32m     20\u001b[0m model\u001b[39m.\u001b[39mcompile(optimizer\u001b[39m=\u001b[39m\u001b[39m'\u001b[39m\u001b[39madam\u001b[39m\u001b[39m'\u001b[39m, loss\u001b[39m=\u001b[39m\u001b[39m'\u001b[39m\u001b[39mcategorical_crossentropy\u001b[39m\u001b[39m'\u001b[39m, metrics\u001b[39m=\u001b[39m[\u001b[39m'\u001b[39m\u001b[39maccuracy\u001b[39m\u001b[39m'\u001b[39m])\n\u001b[0;32m     22\u001b[0m \u001b[39m# Entraîner le modèle\u001b[39;00m\n\u001b[1;32m---> 23\u001b[0m model\u001b[39m.\u001b[39;49mfit(train_input, train_labels, batch_size\u001b[39m=\u001b[39;49m\u001b[39m128\u001b[39;49m, epochs\u001b[39m=\u001b[39;49m\u001b[39m5\u001b[39;49m, validation_data\u001b[39m=\u001b[39;49m(test_input, test_labels))\n\u001b[0;32m     25\u001b[0m \u001b[39m# Évaluer le modèle sur les données de test\u001b[39;00m\n\u001b[0;32m     26\u001b[0m test_loss, test_acc \u001b[39m=\u001b[39m model\u001b[39m.\u001b[39mevaluate(test_input, test_labels)\n",
      "File \u001b[1;32m~\\AppData\\Roaming\\Python\\Python311\\site-packages\\keras\\utils\\traceback_utils.py:70\u001b[0m, in \u001b[0;36mfilter_traceback.<locals>.error_handler\u001b[1;34m(*args, **kwargs)\u001b[0m\n\u001b[0;32m     67\u001b[0m     filtered_tb \u001b[39m=\u001b[39m _process_traceback_frames(e\u001b[39m.\u001b[39m__traceback__)\n\u001b[0;32m     68\u001b[0m     \u001b[39m# To get the full stack trace, call:\u001b[39;00m\n\u001b[0;32m     69\u001b[0m     \u001b[39m# `tf.debugging.disable_traceback_filtering()`\u001b[39;00m\n\u001b[1;32m---> 70\u001b[0m     \u001b[39mraise\u001b[39;00m e\u001b[39m.\u001b[39mwith_traceback(filtered_tb) \u001b[39mfrom\u001b[39;00m \u001b[39mNone\u001b[39m\n\u001b[0;32m     71\u001b[0m \u001b[39mfinally\u001b[39;00m:\n\u001b[0;32m     72\u001b[0m     \u001b[39mdel\u001b[39;00m filtered_tb\n",
      "File \u001b[1;32m~\\AppData\\Roaming\\Python\\Python311\\site-packages\\keras\\engine\\data_adapter.py:1852\u001b[0m, in \u001b[0;36m_check_data_cardinality\u001b[1;34m(data)\u001b[0m\n\u001b[0;32m   1845\u001b[0m     msg \u001b[39m+\u001b[39m\u001b[39m=\u001b[39m \u001b[39m\"\u001b[39m\u001b[39m  \u001b[39m\u001b[39m{}\u001b[39;00m\u001b[39m sizes: \u001b[39m\u001b[39m{}\u001b[39;00m\u001b[39m\\n\u001b[39;00m\u001b[39m\"\u001b[39m\u001b[39m.\u001b[39mformat(\n\u001b[0;32m   1846\u001b[0m         label,\n\u001b[0;32m   1847\u001b[0m         \u001b[39m\"\u001b[39m\u001b[39m, \u001b[39m\u001b[39m\"\u001b[39m\u001b[39m.\u001b[39mjoin(\n\u001b[0;32m   1848\u001b[0m             \u001b[39mstr\u001b[39m(i\u001b[39m.\u001b[39mshape[\u001b[39m0\u001b[39m]) \u001b[39mfor\u001b[39;00m i \u001b[39min\u001b[39;00m tf\u001b[39m.\u001b[39mnest\u001b[39m.\u001b[39mflatten(single_data)\n\u001b[0;32m   1849\u001b[0m         ),\n\u001b[0;32m   1850\u001b[0m     )\n\u001b[0;32m   1851\u001b[0m msg \u001b[39m+\u001b[39m\u001b[39m=\u001b[39m \u001b[39m\"\u001b[39m\u001b[39mMake sure all arrays contain the same number of samples.\u001b[39m\u001b[39m\"\u001b[39m\n\u001b[1;32m-> 1852\u001b[0m \u001b[39mraise\u001b[39;00m \u001b[39mValueError\u001b[39;00m(msg)\n",
      "\u001b[1;31mValueError\u001b[0m: Data cardinality is ambiguous:\n  x sizes: 10000\n  y sizes: 60000\nMake sure all arrays contain the same number of samples."
     ]
    }
   ],
   "source": [
    "(train_input, train_target), (test_input, test_target) = mnist.load_data()\n",
    "\n",
    "# Normaliser les images et convertir les étiquettes en vecteurs binaires\n",
    "train_input = train_input.astype('float32') / 255\n",
    "test_input = test_input.astype('float32') / 255\n",
    "train_labels = utils.to_categorical(train_target)\n",
    "test_labels = utils.to_categorical(test_target)\n",
    "\n",
    "# Réorganiser les dimensions des images pour convenir à l'entrée du CNN\n",
    "train_input = np.expand_dims(train_input, axis=-1)\n",
    "test_input = np.expand_dims(test_input, axis=-1)\n",
    "model = models.Sequential()\n",
    "model.add(layers.Conv2D(32, kernel_size=(3, 3), activation='relu', input_shape=(28, 28, 1)))\n",
    "model.add(layers.MaxPooling2D(pool_size=(2, 2)))\n",
    "model.add(layers.Conv2D(64, kernel_size=(3, 3), activation='relu'))\n",
    "model.add(layers.MaxPooling2D(pool_size=(2, 2)))\n",
    "model.add(layers.Flatten())\n",
    "model.add(layers.Dense(128, activation='relu'))\n",
    "model.add(layers.Dense(10, activation='softmax'))\n",
    "\n",
    "# Compiler le modèle\n",
    "model.compile(optimizer='adam', loss='categorical_crossentropy', metrics=['accuracy'])\n",
    "\n",
    "# Entraîner le modèle\n",
    "model.fit(train_input, train_labels, batch_size=128, epochs=5, validation_data=(test_input, test_labels))\n",
    "\n",
    "# Évaluer le modèle sur les données de test\n",
    "test_loss, test_acc = model.evaluate(test_input, test_labels)\n",
    "print('Test accuracy:', test_acc, ' Test loss:', test_loss)"
   ]
  }
 ],
 "metadata": {
  "kernelspec": {
   "display_name": "Python 3",
   "language": "python",
   "name": "python3"
  },
  "language_info": {
   "codemirror_mode": {
    "name": "ipython",
    "version": 3
   },
   "file_extension": ".py",
   "mimetype": "text/x-python",
   "name": "python",
   "nbconvert_exporter": "python",
   "pygments_lexer": "ipython3",
   "version": "3.11.3"
  },
  "orig_nbformat": 4
 },
 "nbformat": 4,
 "nbformat_minor": 2
}
